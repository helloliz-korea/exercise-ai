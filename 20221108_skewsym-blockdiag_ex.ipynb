{
 "cells": [
  {
   "cell_type": "code",
   "execution_count": 10,
   "metadata": {},
   "outputs": [
    {
     "name": "stdout",
     "output_type": "stream",
     "text": [
      "[[ 0. -1.  0.  0.]\n",
      " [ 1.  0.  0.  0.]\n",
      " [ 0.  0.  0. -1.]\n",
      " [ 0.  0.  1.  0.]]\n"
     ]
    }
   ],
   "source": [
    "# Block Diagonal Matrix for Skew Symmetric matrix\n",
    "import numpy as np\n",
    "import scipy.linalg as la\n",
    "from scipy.linalg import block_diag\n",
    "\n",
    "# even size example\n",
    "X = np.array([[0,-1,5,-3], [1,0,0,-1], [0,0,3,-2], [0,0,5,-3]]) \n",
    "# # odd size example\n",
    "# X=np.array([[0,1,2,3,4], [-1,0,2,3,4], [-2,-2,0,3,4], [-3,-3,-3,0,4], [-4,-4,-4,-4,0]]) \n",
    "n = X.shape[0]\n",
    "##########################################################################################################\n",
    "\n",
    "# eigenvectors\n",
    "[u,v] = np.linalg.eig(X)\n",
    "\n",
    "perm = np.argsort(np.abs(np.imag(u)))\n",
    "unew = 1j*np.imag(u[perm])\n",
    "vnew = v[perm,:]\n",
    "\n",
    "# number of blocks : (Real eigenvalues of X are always 0, and each block-size for complex values = 2 by 2)\n",
    "numblocks = np.flatnonzero(unew).size // 2\n",
    "num_zeros = n - (2 * numblocks)\n",
    "\n",
    "T = la.block_diag(*[1.]*num_zeros, np.kron(1/np.sqrt(2)*np.eye(numblocks), np.array([[1.,1j],[1,-1j]])))\n",
    "Eigs = np.real(T.conj().T.dot(np.diag(unew).dot(T)))\n",
    "Evecs = np.real(vnew.dot(T))\n",
    "\n",
    "# Block diagonal matrix for given matrix\n",
    "print(Eigs)"
   ]
  },
  {
   "cell_type": "code",
   "execution_count": null,
   "metadata": {},
   "outputs": [],
   "source": []
  }
 ],
 "metadata": {
  "kernelspec": {
   "display_name": "Python 3.10.4 ('tf')",
   "language": "python",
   "name": "python3"
  },
  "language_info": {
   "codemirror_mode": {
    "name": "ipython",
    "version": 3
   },
   "file_extension": ".py",
   "mimetype": "text/x-python",
   "name": "python",
   "nbconvert_exporter": "python",
   "pygments_lexer": "ipython3",
   "version": "3.10.4"
  },
  "orig_nbformat": 4,
  "vscode": {
   "interpreter": {
    "hash": "02aaae3c9b50b62c88d0cc652c4ef3b1b4bf05515e9d7a066ea77f7c79246682"
   }
  }
 },
 "nbformat": 4,
 "nbformat_minor": 2
}
