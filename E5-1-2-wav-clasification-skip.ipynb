{
 "cells": [
  {
   "cell_type": "markdown",
   "id": "polar-membership",
   "metadata": {},
   "source": [
    "# E5-1-2. 음성데이터 classification : 1D-Skip-Connection model\n",
    "### A-1. 데이터 준비 및 분석\n",
    "#### 데이터 다운 (1.6G 대용량)\n",
    "- mkdir -p ~/aiffel/speech_recognition/data\n",
    "- mkdir -p ~/aiffel/speech_recognition/models\n",
    "- wget https://aiffelstaticdev.blob.core.windows.net/dataset/speech_wav_8000.npz \n",
    "- -P ~/aiffel/speech_recognition/data"
   ]
  },
  {
   "cell_type": "code",
   "execution_count": 1,
   "id": "documentary-evaluation",
   "metadata": {},
   "outputs": [
    {
     "name": "stdout",
     "output_type": "stream",
     "text": [
      "wav_vals\n",
      "label_vals\n",
      "Wave data shape :  (50620, 8000)\n",
      "Label data shape :  (50620, 1)\n"
     ]
    }
   ],
   "source": [
    "#### 1. 데이터 로드 ####################################################################################\n",
    "import numpy as np\n",
    "import os\n",
    "\n",
    "#data_path = os.getenv(\"HOME\")+'/aiffel/speech_recognition/data/speech_wav_8000.npz'\n",
    "speech_data = np.load('speech_wav_8000.npz')\n",
    "for i in speech_data:\n",
    "    print(i)\n",
    "\n",
    "wav_data = speech_data[\"wav_vals\"]\n",
    "label_data = speech_data[\"label_vals\"]\n",
    "\n",
    "# 1초 길이의 오디오 데이터 50620개, 1개 당 8000가지의 sample data 보유\n",
    "print(\"Wave data shape : \", wav_data.shape) # 8000*1사이즈(데이터의 feature) 데이터 50620개 = 50620*8000 행렬\n",
    "print(\"Label data shape : \", label_data.shape) # 데이터 개수만큼 라벨(정답지) 존재 = 50620*1 행렬"
   ]
  },
  {
   "cell_type": "code",
   "execution_count": 2,
   "id": "threaded-assurance",
   "metadata": {},
   "outputs": [
    {
     "name": "stdout",
     "output_type": "stream",
     "text": [
      "random number :  7057\n",
      "Wave data shape :  (8000,)\n",
      "label data shape :  (1,)\n",
      "label :  ['no']\n",
      "wave data : \n"
     ]
    },
    {
     "data": {
      "text/html": [
       "\n",
       "                <audio  controls=\"controls\" >\n",
       "                    <source src=\"data:audio/wav;base64,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\" type=\"audio/wav\" />\n",
       "                    Your browser does not support the audio element.\n",
       "                </audio>\n",
       "              "
      ],
      "text/plain": [
       "<IPython.lib.display.Audio object>"
      ]
     },
     "execution_count": 2,
     "metadata": {},
     "output_type": "execute_result"
    }
   ],
   "source": [
    "#### 2. 데이터 확인 ####################################################################################\n",
    "import IPython.display as ipd\n",
    "import random\n",
    "\n",
    "# 데이터 50260개 중 랜덤 추출 : 라벨과 맞는지 확인\n",
    "rand = random.randint(0, len(wav_data))\n",
    "print(\"random number : \", rand)\n",
    "wav_sample = wav_data[rand]  # 웨이브 데이터??\n",
    "label_sample = label_data[rand]\n",
    "print(\"Wave data shape : \", wav_sample.shape)\n",
    "print(\"label data shape : \", label_sample.shape)\n",
    "print(\"label : \", label_sample)\n",
    "print(\"wave data : \")\n",
    "## rate = data의 feature 수 (1초동안 재생되는 샘플 수)\n",
    "ipd.Audio(wav_sample, rate=wav_sample.shape[0]) "
   ]
  },
  {
   "cell_type": "markdown",
   "id": "d867b11b",
   "metadata": {},
   "source": [
    "### B. train/test 데이터셋 생성\n",
    "  \n",
    "* sklearn의 train_test_split 함수 이용 : train data와 test data 분리  \n",
    "* test_size의 인자를 조절해주면, 설정해 준 값만큼 Test dataset의 비율을 조정 가능"
   ]
  },
  {
   "cell_type": "code",
   "execution_count": 3,
   "id": "e0f3000f",
   "metadata": {},
   "outputs": [
    {
     "name": "stdout",
     "output_type": "stream",
     "text": [
      "LABEL :  ['yes', 'no', 'up', 'down', 'left', 'right', 'on', 'off', 'stop', 'go', 'unknown', 'silence']\n",
      "Indexed LABEL :  {'yes': 0, 'no': 1, 'up': 2, 'down': 3, 'left': 4, 'right': 5, 'on': 6, 'off': 7, 'stop': 8, 'go': 9, 'unknown': 10, 'silence': 11}\n"
     ]
    }
   ],
   "source": [
    "#### 3. 라벨 데이터 처리 ####################################################################################\n",
    "## Text 형태의 라벨 데이터에 학습에 사용 가능한 index 부여\n",
    "## unknown, silence는 구분되지 않는 데이터의 라벨\n",
    "label_value = ['yes', 'no', 'up', 'down', 'left', 'right', 'on', 'off', 'stop', 'go', 'unknown', 'silence']\n",
    "print('LABEL : ', label_value)\n",
    "\n",
    "new_label_value = dict()\n",
    "for i, l in enumerate(label_value):\n",
    "    new_label_value[l] = i    \n",
    "label_value = new_label_value\n",
    "print('Indexed LABEL : ', new_label_value)\n",
    "# {'yes': 0, 'no': 1, 'up': 2, 'down': 3, 'left': 4, 'right': 5, 'on': 6, 'off': 7, 'stop': 8, 'go': 9, 'unknown': 10, 'silence': 11}"
   ]
  },
  {
   "cell_type": "code",
   "execution_count": 4,
   "id": "1121554f",
   "metadata": {},
   "outputs": [
    {
     "name": "stdout",
     "output_type": "stream",
     "text": [
      "(50620,) [ 3  3  3 ... 11 11 11]\n"
     ]
    }
   ],
   "source": [
    "## label = speech_data[\"label_vals\"]를 위에 생성해준 dict.. label_value에 해당하는 값으로 변경\n",
    "## 예를들어 라벨이 yes였던 걸 0으로 바꿔주는 작업\n",
    "temp = []\n",
    "for v in label_data:\n",
    "    temp.append(label_value[v[0]])\n",
    "label_data = np.array(temp)\n",
    "print(label_data.shape, label_data)\n",
    "## array([ 3,  3,  3, ..., 11, 11, 11])"
   ]
  },
  {
   "cell_type": "code",
   "execution_count": 5,
   "id": "a6a408ed",
   "metadata": {},
   "outputs": [
    {
     "name": "stdout",
     "output_type": "stream",
     "text": [
      "(45558, 8000) (5062, 8000)\n",
      "(45558, 8000, 1) (5062, 8000, 1)\n"
     ]
    }
   ],
   "source": [
    "#### 4. 데이터 분리 ####################################################################################\n",
    "## sklearn의 train_test_split 함수 이용 : train data와 test data 분리  \n",
    "## test_size의 인자를 조절해주면, 설정해 준 값만큼 Test dataset의 비율을 조정 가능\n",
    "from sklearn.model_selection import train_test_split\n",
    "\n",
    "## 음성데이터를 source로 두고 분리, indexed label data를 타겟으로 두고\n",
    "train_wav, test_wav, train_label, test_label = train_test_split(wav_data, \n",
    "                                                                label_data, \n",
    "                                                                test_size=0.1,\n",
    "                                                                shuffle=True)\n",
    "print(train_wav.shape, test_wav.shape)  # (45558, 8000) (5062, 8000)\n",
    "\n",
    "train_wav = train_wav.reshape([-1, 8000, 1]) # add channel for CNN\n",
    "test_wav = test_wav.reshape([-1, 8000, 1])\n",
    "print(train_wav.shape, test_wav.shape)  # (45558, 8000, 1) (5062, 8000, 1)"
   ]
  },
  {
   "cell_type": "markdown",
   "id": "634a348b",
   "metadata": {},
   "source": [
    "* `tf.data.Dataset`을 이용하여 데이터셋 구성 (`Tensorflow`에 포함된 데이터셋 관리 패키지)  \n",
    "* 위 패키지는 데이터셋 전처리, 배치처리 등을 쉽게 할 수 있도록 해 줌  \n",
    "* `tf.data.Dataset.from_tensor_slices` 함수에 return 받길 원하는 데이터를 튜플 (data, label) 형태로 넣어서 사용  \n",
    "  \n",
    "* map 함수는 dataset이 데이터를 불러올때마다 동작시킬 데이터 전처리 함수를 매핑해 주는 역할  \n",
    "* 첫번째 map 함수는 `from_tensor_slice` 에 입력한 튜플 형태로 데이터를 받으며 return 값으로 어떤 데이터를 반환할지 결정  \n",
    "* map 함수는 중첩해서 사용 가능  \n",
    "  \n",
    "* 아래와 같이, map 함수에 넘겨줄 데이터 전처리 함수를 작성해보기"
   ]
  },
  {
   "cell_type": "code",
   "execution_count": 6,
   "id": "3af6073a",
   "metadata": {},
   "outputs": [],
   "source": [
    "#### 5. 데이터셋 생성 ####################################################################################\n",
    "## map : dataset이 데이터를 불러올때마다 동작시킬 데이터 전처리 함수를 매핑해줌\n",
    "import tensorflow as tf\n",
    "\n",
    "## 배치사이즈 커지면 메모리 사용량 증가, 경험상 학습에는 배치사이즈가 큰 영향 안 주는 듯\n",
    "batch_size = 10\n",
    "\n",
    "## 여기선 one-hot-encoding map 사용\n",
    "def one_hot_label(wav, label):\n",
    "    label = tf.one_hot(label, depth=12)\n",
    "    return wav, label\n",
    "    \n",
    "# for train\n",
    "## 데이터를 [source, target] 쌍으로 엮어줌\n",
    "## repeat(n) : n-interation per 1 ep., () means infinitely many\n",
    "## #(data) / batch-size = n-interation(or n-step) per 1 ep.\n",
    "train_dataset = tf.data.Dataset.from_tensor_slices((train_wav, train_label))  \n",
    "train_dataset = train_dataset.map(one_hot_label) ## 원핫인코딩\n",
    "train_dataset = train_dataset.repeat().batch(batch_size=batch_size)\n",
    "\n",
    "# for test\n",
    "test_dataset = tf.data.Dataset.from_tensor_slices((test_wav, test_label))\n",
    "test_dataset = test_dataset.map(one_hot_label)\n",
    "test_dataset = test_dataset.batch(batch_size=batch_size)"
   ]
  },
  {
   "cell_type": "markdown",
   "id": "c2d2cd97",
   "metadata": {},
   "source": [
    "### C. Conv1D 모델 구현\n",
    "  \n",
    "- Audio 데이터는 1차원 데이터이기 때문에 Conv1D layer를 이용해서 모델을 구성\n",
    "* 현재 라벨이 될 수 있는 12개의 단어 class 가지고 있음  \n",
    "* 해당 class를 구분하기 위해 `multi-class classification` 필요  \n",
    "* 이를 수행하기 위한 `Loss`로 `Categorical Cross-Entropy loss`를 사용할 것임"
   ]
  },
  {
   "cell_type": "code",
   "execution_count": 7,
   "id": "5aaaab9e",
   "metadata": {},
   "outputs": [],
   "source": [
    "#### 6-1. 1D-model construction ###########################################################################\n",
    "# from keras.layers import Input, Conv1D, MaxPool1D, Dropout, Flatten, Dense, BatchNormalization, Activation\n",
    "# from keras import Model\n",
    "# from keras.optimizers import Adam\n",
    "# from keras.losses import CategoricalCrossentropy\n",
    "\n",
    "# def wav_model(input_shape):\n",
    "#     input_tensor = Input(shape=input_shape)\n",
    "#     x = Conv1D(32, 9, padding='same', activation='relu')(input_tensor)\n",
    "#     x = Conv1D(32, 9, padding='same', activation='relu')(x)\n",
    "#     x = MaxPool1D()(x)\n",
    "\n",
    "#     x = Conv1D(64, 9, padding='same', activation='relu')(x)\n",
    "#     x = Conv1D(64, 9, padding='same', activation='relu')(x)\n",
    "#     x = MaxPool1D()(x)\n",
    "\n",
    "#     x = Conv1D(128, 9, padding='same', activation='relu')(x)\n",
    "#     x = Conv1D(128, 9, padding='same', activation='relu')(x)\n",
    "#     x = Conv1D(128, 9, padding='same', activation='relu')(x)\n",
    "#     x = MaxPool1D()(x)\n",
    "\n",
    "#     x = Conv1D(256, 9, padding='same', activation='relu')(x)\n",
    "#     x = Conv1D(256, 9, padding='same', activation='relu')(x)\n",
    "#     x = Conv1D(256, 9, padding='same', activation='relu')(x)\n",
    "#     x = MaxPool1D()(x)\n",
    "#     x = Dropout(0.3)(x)\n",
    "\n",
    "#     x = Flatten()(x)\n",
    "#     x = Dense(256)(x)\n",
    "#     x = BatchNormalization()(x)\n",
    "#     x = Activation('relu')(x)\n",
    "#     output_tensor = Dense(12)(x)\n",
    "#     model = Model(input_tensor, output_tensor)\n",
    "#     opt = Adam(1e-4)  # 1e-4 : 0.0001\n",
    "#     model.compile(loss=CategoricalCrossentropy(from_logits=True), optimizer=opt, metrics=['accuracy'])\n",
    "#     return model"
   ]
  },
  {
   "cell_type": "markdown",
   "id": "0441b1ae",
   "metadata": {},
   "source": [
    "2. Skip-Connection model 구현\n",
    "  \n",
    "* 기존의 모델을 `skip-connection`이 추가된 모델로 변경해 학습을 진행  \n",
    "* 위쪽의 데이터가 레이어를 뛰어넘어 레이어를 통과한 값에 더해주는 형식으로 구현  \n",
    "* Concat을 이용한 방식으로 구현  \n",
    "* `tf.concat([#layer output tensor, layer output tensor#], axis=#)`  \n",
    "* 우리가 사용하는 데이터가 1차원 audio 데이터이기 때문에 1차원 데이터를 처리하는 모델을 구성"
   ]
  },
  {
   "cell_type": "code",
   "execution_count": 8,
   "id": "cd2236bc",
   "metadata": {},
   "outputs": [],
   "source": [
    "#### 6-2. skip-conn. model construction ##########################################################################\n",
    "from keras.layers import Input, Conv1D, MaxPool1D, Dropout, Flatten, Dense, BatchNormalization, Activation\n",
    "from keras import Model\n",
    "from keras.optimizers import Adam\n",
    "from keras.losses import CategoricalCrossentropy\n",
    "\n",
    "def skip_model(input_shape):\n",
    "    input_tensor = Input(shape=input_shape)  \n",
    "    x = Conv1D(32, 9, padding='same', activation='relu')(input_tensor) \n",
    "    x = Conv1D(32, 9, padding='same', activation='relu')(x)\n",
    "    skip_1 = MaxPool1D()(x)\n",
    "\n",
    "    x = Conv1D(64, 9, padding='same', activation='relu')(skip_1)\n",
    "    x = Conv1D(64, 9, padding='same', activation='relu')(x)\n",
    "    x = tf.concat([x, skip_1], -1)\n",
    "    skip_2 = MaxPool1D()(x)\n",
    "\n",
    "    x = Conv1D(128, 9, padding='same', activation='relu')(skip_2)\n",
    "    x = Conv1D(128, 9, padding='same', activation='relu')(x)\n",
    "    x = Conv1D(128, 9, padding='same', activation='relu')(x)\n",
    "    x = tf.concat([x, skip_2], -1)\n",
    "    skip_3 = MaxPool1D()(x)\n",
    "\n",
    "    x = Conv1D(256, 9, padding='same', activation='relu')(skip_3)\n",
    "    x = Conv1D(256, 9, padding='same', activation='relu')(x)\n",
    "    x = Conv1D(256, 9, padding='same', activation='relu')(x)\n",
    "    x = tf.concat([x, skip_3], -1)\n",
    "    x = MaxPool1D()(x)\n",
    "    x = Dropout(0.3)(x)\n",
    "\n",
    "    x = Flatten()(x)\n",
    "    x = Dense(256)(x)\n",
    "    x = BatchNormalization()(x)\n",
    "    x = Activation('relu')(x)\n",
    "    output_tensor = Dense(12)(x)\n",
    "    model = Model(input_tensor, output_tensor)\n",
    "    opt = tf.keras.optimizers.Adam(1e-4)\n",
    "    model.compile(loss=CategoricalCrossentropy(from_logits=True), optimizer=opt, metrics=['accuracy'])\n",
    "    return model"
   ]
  },
  {
   "cell_type": "markdown",
   "id": "de7a80a3",
   "metadata": {},
   "source": [
    "* 모델 체크포인트 저장을 위한 체크포인트의 경로 설정  \n",
    "* 후에 모델 체크포인트 Callback 함수를 설정하거나, 모델을 불러올 때 사용\n",
    "- Callback\n",
    "  \n",
    "    * `model.fit` 함수를 이용할 때, `callback` 함수를 이용하여 학습 중간 중간 원하는 동작을 하도록 설정 가능  \n",
    "    * 모델을 재사용하기 위해 모델 가중치를 저장하는 `callback` 함수 추가  \n",
    "    \n",
    "    * `Model Checkpoint callback`은 모델을 학습을 진행하며, `fit` 함수 내 다양한 인자를 지정해 모니터하며 동작하게 설정 가능  \n",
    "    * 현재 모델은 `validation loss`를 모니터하며, `loss`가 낮아지면 모델 파라미터를 저장하도록 구성되어 있음"
   ]
  },
  {
   "cell_type": "code",
   "execution_count": 9,
   "id": "f7c8482d",
   "metadata": {},
   "outputs": [],
   "source": [
    "#### 7. Model Checkpoint Callback #######################################################################\n",
    "checkpt_dir = 'D:/geom/Aiffel/Fourier_signal/skip_networks/'\n",
    "cp_callback = tf.keras.callbacks.ModelCheckpoint(checkpt_dir,\n",
    "                                                 save_weights_only=True,\n",
    "                                                 monitor='val_loss',\n",
    "                                                 mode='auto',\n",
    "                                                 save_best_only=True, \n",
    "                                                 save_freq='epoch',\n",
    "                                                 verbose=1)"
   ]
  },
  {
   "cell_type": "markdown",
   "id": "e71d3f2b",
   "metadata": {},
   "source": [
    "### D. 학습\n",
    "- 메모리 부족 시, 배치사이즈 줄임"
   ]
  },
  {
   "cell_type": "code",
   "execution_count": 10,
   "id": "173b24d9",
   "metadata": {},
   "outputs": [
    {
     "name": "stdout",
     "output_type": "stream",
     "text": [
      "(8000, 1)\n",
      "Epoch 1/10\n",
      "4555/4555 [==============================] - ETA: 0s - loss: 1.3055 - accuracy: 0.5737\n",
      "Epoch 1: val_loss improved from inf to 0.89429, saving model to D:/geom/Aiffel/Fourier_signal/skip_networks\\\n",
      "4555/4555 [==============================] - 393s 85ms/step - loss: 1.3055 - accuracy: 0.5737 - val_loss: 0.8943 - val_accuracy: 0.7063\n",
      "Epoch 2/10\n",
      "4555/4555 [==============================] - ETA: 0s - loss: 0.7293 - accuracy: 0.7797\n",
      "Epoch 2: val_loss improved from 0.89429 to 0.69944, saving model to D:/geom/Aiffel/Fourier_signal/skip_networks\\\n",
      "4555/4555 [==============================] - 392s 86ms/step - loss: 0.7293 - accuracy: 0.7797 - val_loss: 0.6994 - val_accuracy: 0.7753\n",
      "Epoch 3/10\n",
      "4555/4555 [==============================] - ETA: 0s - loss: 0.4012 - accuracy: 0.8915\n",
      "Epoch 3: val_loss improved from 0.69944 to 0.42264, saving model to D:/geom/Aiffel/Fourier_signal/skip_networks\\\n",
      "4555/4555 [==============================] - 391s 86ms/step - loss: 0.4012 - accuracy: 0.8915 - val_loss: 0.4226 - val_accuracy: 0.8676\n",
      "Epoch 4/10\n",
      "4555/4555 [==============================] - ETA: 0s - loss: 0.2250 - accuracy: 0.9441\n",
      "Epoch 4: val_loss improved from 0.42264 to 0.36664, saving model to D:/geom/Aiffel/Fourier_signal/skip_networks\\\n",
      "4555/4555 [==============================] - 383s 84ms/step - loss: 0.2250 - accuracy: 0.9441 - val_loss: 0.3666 - val_accuracy: 0.8844\n",
      "Epoch 5/10\n",
      "4555/4555 [==============================] - ETA: 0s - loss: 0.1436 - accuracy: 0.9652\n",
      "Epoch 5: val_loss improved from 0.36664 to 0.30906, saving model to D:/geom/Aiffel/Fourier_signal/skip_networks\\\n",
      "4555/4555 [==============================] - 384s 84ms/step - loss: 0.1436 - accuracy: 0.9652 - val_loss: 0.3091 - val_accuracy: 0.9042\n",
      "Epoch 6/10\n",
      "4555/4555 [==============================] - ETA: 0s - loss: 0.0989 - accuracy: 0.9758\n",
      "Epoch 6: val_loss improved from 0.30906 to 0.30761, saving model to D:/geom/Aiffel/Fourier_signal/skip_networks\\\n",
      "4555/4555 [==============================] - 391s 86ms/step - loss: 0.0989 - accuracy: 0.9758 - val_loss: 0.3076 - val_accuracy: 0.9105\n",
      "Epoch 7/10\n",
      "4555/4555 [==============================] - ETA: 0s - loss: 0.0707 - accuracy: 0.9835\n",
      "Epoch 7: val_loss improved from 0.30761 to 0.27978, saving model to D:/geom/Aiffel/Fourier_signal/skip_networks\\\n",
      "4555/4555 [==============================] - 390s 86ms/step - loss: 0.0707 - accuracy: 0.9835 - val_loss: 0.2798 - val_accuracy: 0.9180\n",
      "Epoch 8/10\n",
      "4555/4555 [==============================] - ETA: 0s - loss: 0.0513 - accuracy: 0.9880\n",
      "Epoch 8: val_loss did not improve from 0.27978\n",
      "4555/4555 [==============================] - 382s 84ms/step - loss: 0.0513 - accuracy: 0.9880 - val_loss: 0.3414 - val_accuracy: 0.9079\n",
      "Epoch 9/10\n",
      "4555/4555 [==============================] - ETA: 0s - loss: 0.0408 - accuracy: 0.9912\n",
      "Epoch 9: val_loss did not improve from 0.27978\n",
      "4555/4555 [==============================] - 383s 84ms/step - loss: 0.0408 - accuracy: 0.9912 - val_loss: 0.2884 - val_accuracy: 0.9188\n",
      "Epoch 10/10\n",
      "4555/4555 [==============================] - ETA: 0s - loss: 0.0361 - accuracy: 0.9917\n",
      "Epoch 10: val_loss did not improve from 0.27978\n",
      "4555/4555 [==============================] - 377s 83ms/step - loss: 0.0361 - accuracy: 0.9917 - val_loss: 0.2836 - val_accuracy: 0.9251\n"
     ]
    }
   ],
   "source": [
    "#### 8. model fit #######################################################################################\n",
    "## fit 함수는 학습결과를 리턴하고, 그 결과를 history_wav에 저장\n",
    "input_shape = train_dataset.element_spec[0].shape[1:]\n",
    "print(input_shape)\n",
    "model = skip_model(input_shape)\n",
    "history_wav = model.fit(train_dataset, epochs=10,\n",
    "                    steps_per_epoch=len(train_wav) // batch_size, \n",
    "                    validation_data=test_dataset,\n",
    "                    validation_steps=len(test_wav) // batch_size,\n",
    "                    callbacks=[cp_callback]\n",
    "                    )"
   ]
  },
  {
   "cell_type": "markdown",
   "id": "860502e7",
   "metadata": {},
   "source": [
    "### E. 학습 결과 시각화\n",
    "- train_loss와 val_loss의 차이가 커진다면 overfitting일 수 있음\n",
    "* `model.fit` 함수는 학습 동안의 결과를 return  \n",
    "* return 값을 기반으로 loss와 accuracy를 그래프로 표현  \n",
    "* `fit` 함수에서 전달 받은 Loss와 Accuracy의 값을 이용해 모델이 어떻게 학습되고 있는지 확인 가능  \n",
    "* `train loss`와 `val_loss`의 차이가 커지는 경우 오버피팅이 일어나는 것이기 때문에 이를 수정할 필요가 있음  \n",
    "* 출력된 그래프를 기반으로 모델의 학습이 어떻게 진행됐는지 확인"
   ]
  },
  {
   "cell_type": "code",
   "execution_count": 11,
   "id": "da3166be",
   "metadata": {},
   "outputs": [
    {
     "data": {
      "image/png": "[encoded data removed]",
      "text/plain": [
       "<Figure size 800x800 with 2 Axes>"
      ]
     },
     "metadata": {},
     "output_type": "display_data"
    }
   ],
   "source": [
    "#### 9. accuracy, loss 비교 시각화 ###########################################################################\n",
    "import matplotlib.pyplot as plt\n",
    "\n",
    "acc = history_wav.history['accuracy']\n",
    "val_acc = history_wav.history['val_accuracy']\n",
    "\n",
    "loss=history_wav.history['loss']\n",
    "val_loss=history_wav.history['val_loss']\n",
    "\n",
    "epochs_range = range(len(acc))\n",
    "\n",
    "plt.figure(figsize=(8, 8))\n",
    "plt.subplot(1, 2, 1)\n",
    "plt.plot(epochs_range, acc, label='Training Accuracy')\n",
    "plt.plot(epochs_range, val_acc, label='Validation Accuracy')\n",
    "plt.legend(loc='lower right')\n",
    "plt.title('Training and Validation Accuracy')\n",
    "\n",
    "plt.subplot(1, 2, 2)\n",
    "plt.plot(epochs_range, loss, label='Training Loss')\n",
    "plt.plot(epochs_range, val_loss, label='Validation Loss')\n",
    "plt.legend(loc='upper right')\n",
    "plt.title('Training and Validation Loss')\n",
    "plt.show()"
   ]
  },
  {
   "cell_type": "markdown",
   "id": "308dd9b4",
   "metadata": {},
   "source": [
    "### F. Evaluation (평가)\n",
    "* Test dataset을 이용해서 모델의 성능 평가 : 모델의 예측값과 실제값이 얼마나 일치하는지 확인\n",
    "* 실습삼아 `checkpoint callback` 함수가 저장한 weight를 다시 불러와서 테스트 준비"
   ]
  },
  {
   "cell_type": "code",
   "execution_count": 12,
   "id": "35dc62ee",
   "metadata": {},
   "outputs": [
    {
     "name": "stdout",
     "output_type": "stream",
     "text": [
      "507/507 [==============================] - 5s 10ms/step - loss: 0.2797 - accuracy: 0.9180\n",
      "loss value: 0.280\n",
      "accuracy value: 91.8017%\n"
     ]
    }
   ],
   "source": [
    "#### 10. accuracy, loss ####################################################################################\n",
    "model.load_weights(checkpt_dir)\n",
    "results = model.evaluate(test_dataset)\n",
    "\n",
    "# loss\n",
    "print(\"loss value: {:.3f}\".format(results[0]))\n",
    "# accuracy\n",
    "print(\"accuracy value: {:.4f}%\".format(results[1]*100))"
   ]
  },
  {
   "cell_type": "markdown",
   "id": "de54d8a0",
   "metadata": {},
   "source": [
    "### G. 모델 테스트\n",
    "* Test data 셋을 골라 직접 들어보고 모델의 예측이 맞는지 확인"
   ]
  },
  {
   "cell_type": "code",
   "execution_count": 13,
   "id": "8da76687",
   "metadata": {},
   "outputs": [
    {
     "name": "stdout",
     "output_type": "stream",
     "text": [
      "[1874]\n",
      "label :  right\n"
     ]
    },
    {
     "data": {
      "text/html": [
       "\n",
       "                <audio  controls=\"controls\" >\n",
       "                    <source src=\"data:audio/wav;base64,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\" type=\"audio/wav\" />\n",
       "                    Your browser does not support the audio element.\n",
       "                </audio>\n",
       "              "
      ],
      "text/plain": [
       "<IPython.lib.display.Audio object>"
      ]
     },
     "execution_count": 13,
     "metadata": {},
     "output_type": "execute_result"
    }
   ],
   "source": [
    "#### 11. Test data 셋을 골라 직접 들어보고 모델의 예측이 맞는지 확인 #######################################\n",
    "inv_label_value = {v: k for k, v in label_value.items()}\n",
    "batch_index = np.random.choice(len(test_wav), size=1, replace=False)\n",
    "print(batch_index)\n",
    "\n",
    "batch_xs = test_wav[batch_index]\n",
    "batch_ys = test_label[batch_index]\n",
    "y_pred_ = model(batch_xs, training=False)\n",
    "\n",
    "print(\"label : \", str(inv_label_value[batch_ys[0]]))\n",
    "\n",
    "ipd.Audio(batch_xs.reshape(8000,), rate=8000)"
   ]
  },
  {
   "cell_type": "code",
   "execution_count": 14,
   "id": "08395fb0",
   "metadata": {},
   "outputs": [
    {
     "name": "stdout",
     "output_type": "stream",
     "text": [
      "y_pred: right(Correct!)\n"
     ]
    }
   ],
   "source": [
    "#### 12. 테스트셋의 라벨과 모델의 실제 prediction 결과 비교 ###############################################\n",
    "if np.argmax(y_pred_) == batch_ys[0]:\n",
    "    print(\"y_pred: \" + str(inv_label_value[np.argmax(y_pred_)]) + \"(Correct!)\")\n",
    "else:\n",
    "    print(\"y_pred: \" + str(inv_label_value[np.argmax(y_pred_)]) + \"(Incorrect!)\")"
   ]
  },
  {
   "cell_type": "code",
   "execution_count": null,
   "id": "1c8d2a1b",
   "metadata": {},
   "outputs": [],
   "source": []
  },
  {
   "cell_type": "code",
   "execution_count": null,
   "id": "0b3cb9de",
   "metadata": {},
   "outputs": [],
   "source": []
  }
 ],
 "metadata": {
  "kernelspec": {
   "display_name": "Python 3.10.8 ('tf')",
   "language": "python",
   "name": "python3"
  },
  "language_info": {
   "codemirror_mode": {
    "name": "ipython",
    "version": 3
   },
   "file_extension": ".py",
   "mimetype": "text/x-python",
   "name": "python",
   "nbconvert_exporter": "python",
   "pygments_lexer": "ipython3",
   "version": "3.10.8"
  },
  "vscode": {
   "interpreter": {
    "hash": "02aaae3c9b50b62c88d0cc652c4ef3b1b4bf05515e9d7a066ea77f7c79246682"
   }
  }
 },
 "nbformat": 4,
 "nbformat_minor": 5
}
