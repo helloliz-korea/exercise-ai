{
 "cells": [
  {
   "cell_type": "markdown",
   "id": "polar-membership",
   "metadata": {},
   "source": [
    "# E5-1-2. 음성데이터 classification : 1D-Skip-Connection model\n",
    "### A-1. 데이터 준비 및 분석\n",
    "#### 데이터 다운 (1.6G 대용량)\n",
    "- mkdir -p ~/aiffel/speech_recognition/data\n",
    "- mkdir -p ~/aiffel/speech_recognition/models\n",
    "- wget https://aiffelstaticdev.blob.core.windows.net/dataset/speech_wav_8000.npz \n",
    "- -P ~/aiffel/speech_recognition/data"
   ]
  },
  {
   "cell_type": "code",
   "execution_count": 1,
   "id": "documentary-evaluation",
   "metadata": {},
   "outputs": [
    {
     "name": "stdout",
     "output_type": "stream",
     "text": [
      "wav_vals\n",
      "label_vals\n",
      "Wave data shape :  (50620, 8000)\n",
      "Label data shape :  (50620, 1)\n"
     ]
    }
   ],
   "source": [
    "#### 1. 데이터 로드 ####################################################################################\n",
    "import numpy as np\n",
    "import os\n",
    "\n",
    "#data_path = os.getenv(\"HOME\")+'/aiffel/speech_recognition/data/speech_wav_8000.npz'\n",
    "speech_data = np.load('speech_wav_8000.npz')\n",
    "for i in speech_data:\n",
    "    print(i)\n",
    "\n",
    "wav_data = speech_data[\"wav_vals\"]\n",
    "label_data = speech_data[\"label_vals\"]\n",
    "\n",
    "# 1초 길이의 오디오 데이터 50620개, 1개 당 8000가지의 sample data 보유\n",
    "print(\"Wave data shape : \", wav_data.shape) # 8000*1사이즈(데이터의 feature) 데이터 50620개 = 50620*8000 행렬\n",
    "print(\"Label data shape : \", label_data.shape) # 데이터 개수만큼 라벨(정답지) 존재 = 50620*1 행렬"
   ]
  },
  {
   "cell_type": "code",
   "execution_count": 2,
   "id": "threaded-assurance",
   "metadata": {},
   "outputs": [
    {
     "name": "stdout",
     "output_type": "stream",
     "text": [
      "random number :  15812\n",
      "Wave data shape :  (8000,)\n",
      "label data shape :  (1,)\n",
      "label :  ['stop']\n",
      "wave data : \n"
     ]
    },
    {
     "data": {
      "text/html": [
       "\n",
       "                <audio  controls=\"controls\" >\n",
       "                    <source src=\"data:audio/wav;base64,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\" type=\"audio/wav\" />\n",
       "                    Your browser does not support the audio element.\n",
       "                </audio>\n",
       "              "
      ],
      "text/plain": [
       "<IPython.lib.display.Audio object>"
      ]
     },
     "execution_count": 2,
     "metadata": {},
     "output_type": "execute_result"
    }
   ],
   "source": [
    "#### 2. 데이터 확인 ####################################################################################\n",
    "import IPython.display as ipd\n",
    "import random\n",
    "\n",
    "# 데이터 50260개 중 랜덤 추출 : 라벨과 맞는지 확인\n",
    "rand = random.randint(0, len(wav_data))\n",
    "print(\"random number : \", rand)\n",
    "wav_sample = wav_data[rand]  # 웨이브 데이터??\n",
    "label_sample = label_data[rand]\n",
    "print(\"Wave data shape : \", wav_sample.shape)\n",
    "print(\"label data shape : \", label_sample.shape)\n",
    "print(\"label : \", label_sample)\n",
    "print(\"wave data : \")\n",
    "## rate = data의 feature 수 (1초동안 재생되는 샘플 수)\n",
    "ipd.Audio(wav_sample, rate=wav_sample.shape[0]) "
   ]
  },
  {
   "cell_type": "markdown",
   "id": "d867b11b",
   "metadata": {},
   "source": [
    "### B. train/test 데이터셋 생성\n",
    "  \n",
    "* sklearn의 train_test_split 함수 이용 : train data와 test data 분리  \n",
    "* test_size의 인자를 조절해주면, 설정해 준 값만큼 Test dataset의 비율을 조정 가능"
   ]
  },
  {
   "cell_type": "code",
   "execution_count": 3,
   "id": "e0f3000f",
   "metadata": {},
   "outputs": [
    {
     "name": "stdout",
     "output_type": "stream",
     "text": [
      "LABEL :  ['yes', 'no', 'up', 'down', 'left', 'right', 'on', 'off', 'stop', 'go', 'unknown', 'silence']\n",
      "Indexed LABEL :  {'yes': 0, 'no': 1, 'up': 2, 'down': 3, 'left': 4, 'right': 5, 'on': 6, 'off': 7, 'stop': 8, 'go': 9, 'unknown': 10, 'silence': 11}\n"
     ]
    }
   ],
   "source": [
    "#### 3. 라벨 데이터 처리 ####################################################################################\n",
    "## Text 형태의 라벨 데이터에 학습에 사용 가능한 index 부여\n",
    "## unknown, silence는 구분되지 않는 데이터의 라벨\n",
    "label_value = ['yes', 'no', 'up', 'down', 'left', 'right', 'on', 'off', 'stop', 'go', 'unknown', 'silence']\n",
    "print('LABEL : ', label_value)\n",
    "\n",
    "new_label_value = dict()\n",
    "for i, l in enumerate(label_value):\n",
    "    new_label_value[l] = i    \n",
    "label_value = new_label_value\n",
    "print('Indexed LABEL : ', new_label_value)\n",
    "# {'yes': 0, 'no': 1, 'up': 2, 'down': 3, 'left': 4, 'right': 5, 'on': 6, 'off': 7, 'stop': 8, 'go': 9, 'unknown': 10, 'silence': 11}"
   ]
  },
  {
   "cell_type": "code",
   "execution_count": 4,
   "id": "1121554f",
   "metadata": {},
   "outputs": [
    {
     "name": "stdout",
     "output_type": "stream",
     "text": [
      "(50620,) [ 3  3  3 ... 11 11 11]\n"
     ]
    }
   ],
   "source": [
    "## label = speech_data[\"label_vals\"]를 위에 생성해준 dict.. label_value에 해당하는 값으로 변경\n",
    "## 예를들어 라벨이 yes였던 걸 0으로 바꿔주는 작업\n",
    "temp = []\n",
    "for v in label_data:\n",
    "    temp.append(label_value[v[0]])\n",
    "label_data = np.array(temp)\n",
    "print(label_data.shape, label_data)\n",
    "## array([ 3,  3,  3, ..., 11, 11, 11])"
   ]
  },
  {
   "cell_type": "code",
   "execution_count": 5,
   "id": "a6a408ed",
   "metadata": {},
   "outputs": [
    {
     "name": "stdout",
     "output_type": "stream",
     "text": [
      "(45558, 8000) (5062, 8000)\n",
      "(45558, 8000, 1) (5062, 8000, 1)\n"
     ]
    }
   ],
   "source": [
    "#### 4. 데이터 분리 ####################################################################################\n",
    "## sklearn의 train_test_split 함수 이용 : train data와 test data 분리  \n",
    "## test_size의 인자를 조절해주면, 설정해 준 값만큼 Test dataset의 비율을 조정 가능\n",
    "from sklearn.model_selection import train_test_split\n",
    "\n",
    "## 음성데이터를 source로 두고 분리, indexed label data를 타겟으로 두고\n",
    "train_wav, test_wav, train_label, test_label = train_test_split(wav_data, \n",
    "                                                                label_data, \n",
    "                                                                test_size=0.1,\n",
    "                                                                shuffle=True)\n",
    "print(train_wav.shape, test_wav.shape)  # (45558, 8000) (5062, 8000)\n",
    "\n",
    "train_wav = train_wav.reshape([-1, 8000, 1]) # add channel for CNN\n",
    "test_wav = test_wav.reshape([-1, 8000, 1])\n",
    "print(train_wav.shape, test_wav.shape)  # (45558, 8000, 1) (5062, 8000, 1)"
   ]
  },
  {
   "cell_type": "markdown",
   "id": "634a348b",
   "metadata": {},
   "source": [
    "* `tf.data.Dataset`을 이용하여 데이터셋 구성 (`Tensorflow`에 포함된 데이터셋 관리 패키지)  \n",
    "* 위 패키지는 데이터셋 전처리, 배치처리 등을 쉽게 할 수 있도록 해 줌  \n",
    "* `tf.data.Dataset.from_tensor_slices` 함수에 return 받길 원하는 데이터를 튜플 (data, label) 형태로 넣어서 사용  \n",
    "  \n",
    "* map 함수는 dataset이 데이터를 불러올때마다 동작시킬 데이터 전처리 함수를 매핑해 주는 역할  \n",
    "* 첫번째 map 함수는 `from_tensor_slice` 에 입력한 튜플 형태로 데이터를 받으며 return 값으로 어떤 데이터를 반환할지 결정  \n",
    "* map 함수는 중첩해서 사용 가능  \n",
    "  \n",
    "* 아래와 같이, map 함수에 넘겨줄 데이터 전처리 함수를 작성해보기"
   ]
  },
  {
   "cell_type": "code",
   "execution_count": 6,
   "id": "3af6073a",
   "metadata": {},
   "outputs": [],
   "source": [
    "#### 5. 데이터셋 생성 ####################################################################################\n",
    "## map : dataset이 데이터를 불러올때마다 동작시킬 데이터 전처리 함수를 매핑해줌\n",
    "import tensorflow as tf\n",
    "\n",
    "## 배치사이즈 커지면 메모리 사용량 증가, 경험상 학습에는 배치사이즈가 큰 영향 안 주는 듯\n",
    "batch_size = 10\n",
    "\n",
    "## 여기선 one-hot-encoding map 사용\n",
    "def one_hot_label(wav, label):\n",
    "    label = tf.one_hot(label, depth=12)\n",
    "    return wav, label\n",
    "    \n",
    "# for train\n",
    "## 데이터를 [source, target] 쌍으로 엮어줌\n",
    "## repeat(n) : n-interation per 1 ep., () means infinitely many\n",
    "## #(data) / batch-size = n-interation(or n-step) per 1 ep.\n",
    "train_dataset = tf.data.Dataset.from_tensor_slices((train_wav, train_label))  \n",
    "train_dataset = train_dataset.map(one_hot_label) ## 원핫인코딩\n",
    "train_dataset = train_dataset.repeat().batch(batch_size=batch_size)\n",
    "\n",
    "# for test\n",
    "test_dataset = tf.data.Dataset.from_tensor_slices((test_wav, test_label))\n",
    "test_dataset = test_dataset.map(one_hot_label)\n",
    "test_dataset = test_dataset.batch(batch_size=batch_size)"
   ]
  },
  {
   "cell_type": "markdown",
   "id": "c2d2cd97",
   "metadata": {},
   "source": [
    "### C. Conv1D 모델 구현\n",
    "  \n",
    "- Audio 데이터는 1차원 데이터이기 때문에 Conv1D layer를 이용해서 모델을 구성\n",
    "* 현재 라벨이 될 수 있는 12개의 단어 class 가지고 있음  \n",
    "* 해당 class를 구분하기 위해 `multi-class classification` 필요  \n",
    "* 이를 수행하기 위한 `Loss`로 `Categorical Cross-Entropy loss`를 사용할 것임"
   ]
  },
  {
   "cell_type": "code",
   "execution_count": 7,
   "id": "5aaaab9e",
   "metadata": {},
   "outputs": [],
   "source": [
    "#### 6-1. 1D-model construction ###########################################################################\n",
    "# from keras.layers import Input, Conv1D, MaxPool1D, Dropout, Flatten, Dense, BatchNormalization, Activation\n",
    "# from keras import Model\n",
    "# from keras.optimizers import Adam\n",
    "# from keras.losses import CategoricalCrossentropy\n",
    "\n",
    "# def wav_model(input_shape):\n",
    "#     input_tensor = Input(shape=input_shape)\n",
    "#     x = Conv1D(32, 9, padding='same', activation='relu')(input_tensor)\n",
    "#     x = Conv1D(32, 9, padding='same', activation='relu')(x)\n",
    "#     x = MaxPool1D()(x)\n",
    "\n",
    "#     x = Conv1D(64, 9, padding='same', activation='relu')(x)\n",
    "#     x = Conv1D(64, 9, padding='same', activation='relu')(x)\n",
    "#     x = MaxPool1D()(x)\n",
    "\n",
    "#     x = Conv1D(128, 9, padding='same', activation='relu')(x)\n",
    "#     x = Conv1D(128, 9, padding='same', activation='relu')(x)\n",
    "#     x = Conv1D(128, 9, padding='same', activation='relu')(x)\n",
    "#     x = MaxPool1D()(x)\n",
    "\n",
    "#     x = Conv1D(256, 9, padding='same', activation='relu')(x)\n",
    "#     x = Conv1D(256, 9, padding='same', activation='relu')(x)\n",
    "#     x = Conv1D(256, 9, padding='same', activation='relu')(x)\n",
    "#     x = MaxPool1D()(x)\n",
    "#     x = Dropout(0.3)(x)\n",
    "\n",
    "#     x = Flatten()(x)\n",
    "#     x = Dense(256)(x)\n",
    "#     x = BatchNormalization()(x)\n",
    "#     x = Activation('relu')(x)\n",
    "#     output_tensor = Dense(12)(x)\n",
    "#     model = Model(input_tensor, output_tensor)\n",
    "#     opt = Adam(1e-4)  # 1e-4 : 0.0001\n",
    "#     model.compile(loss=CategoricalCrossentropy(from_logits=True), optimizer=opt, metrics=['accuracy'])\n",
    "#     return model"
   ]
  },
  {
   "cell_type": "markdown",
   "id": "0441b1ae",
   "metadata": {},
   "source": [
    "2. Skip-Connection model 구현\n",
    "  \n",
    "* 기존의 모델을 `skip-connection`이 추가된 모델로 변경해 학습을 진행  \n",
    "* 위쪽의 데이터가 레이어를 뛰어넘어 레이어를 통과한 값에 더해주는 형식으로 구현  \n",
    "* Concat을 이용한 방식으로 구현  \n",
    "* `tf.concat([#layer output tensor, layer output tensor#], axis=#)`  \n",
    "* 우리가 사용하는 데이터가 1차원 audio 데이터이기 때문에 1차원 데이터를 처리하는 모델을 구성"
   ]
  },
  {
   "cell_type": "code",
   "execution_count": 8,
   "id": "cd2236bc",
   "metadata": {},
   "outputs": [],
   "source": [
    "#### 6-2. skip-conn. model construction ##########################################################################\n",
    "from keras.layers import Input, Conv1D, MaxPool1D, Dropout, Flatten, Dense, BatchNormalization, Activation\n",
    "from keras import Model\n",
    "from keras.optimizers import Adam\n",
    "from keras.losses import CategoricalCrossentropy\n",
    "\n",
    "def skip_model(input_shape):\n",
    "    input_tensor = Input(shape=input_shape)  \n",
    "    x = Conv1D(32, 9, padding='same', activation='relu')(input_tensor) \n",
    "    x = Conv1D(32, 9, padding='same', activation='relu')(x)\n",
    "    skip_1 = MaxPool1D()(x)\n",
    "\n",
    "    x = Conv1D(64, 9, padding='same', activation='relu')(skip_1)\n",
    "    x = Conv1D(64, 9, padding='same', activation='relu')(x)\n",
    "    x = tf.concat([x, skip_1], -1)\n",
    "    skip_2 = MaxPool1D()(x)\n",
    "\n",
    "    x = Conv1D(128, 9, padding='same', activation='relu')(skip_2)\n",
    "    x = Conv1D(128, 9, padding='same', activation='relu')(x)\n",
    "    x = Conv1D(128, 9, padding='same', activation='relu')(x)\n",
    "    x = tf.concat([x, skip_2], -1)\n",
    "    skip_3 = MaxPool1D()(x)\n",
    "\n",
    "    x = Conv1D(256, 9, padding='same', activation='relu')(skip_3)\n",
    "    x = Conv1D(256, 9, padding='same', activation='relu')(x)\n",
    "    x = Conv1D(256, 9, padding='same', activation='relu')(x)\n",
    "    x = tf.concat([x, skip_3], -1)\n",
    "    x = MaxPool1D()(x)\n",
    "    x = Dropout(0.3)(x)\n",
    "\n",
    "    x = Flatten()(x)\n",
    "    x = Dense(256)(x)\n",
    "    x = BatchNormalization()(x)\n",
    "    x = Activation('relu')(x)\n",
    "    output_tensor = Dense(12)(x)\n",
    "    model = Model(input_tensor, output_tensor)\n",
    "    opt = tf.keras.optimizers.Adam(1e-4)\n",
    "    model.compile(loss=CategoricalCrossentropy(from_logits=True), optimizer=opt, metrics=['accuracy'])\n",
    "    return model"
   ]
  },
  {
   "cell_type": "markdown",
   "id": "de7a80a3",
   "metadata": {},
   "source": [
    "* 모델 체크포인트 저장을 위한 체크포인트의 경로 설정  \n",
    "* 후에 모델 체크포인트 Callback 함수를 설정하거나, 모델을 불러올 때 사용\n",
    "- Callback\n",
    "  \n",
    "    * `model.fit` 함수를 이용할 때, `callback` 함수를 이용하여 학습 중간 중간 원하는 동작을 하도록 설정 가능  \n",
    "    * 모델을 재사용하기 위해 모델 가중치를 저장하는 `callback` 함수 추가  \n",
    "    \n",
    "    * `Model Checkpoint callback`은 모델을 학습을 진행하며, `fit` 함수 내 다양한 인자를 지정해 모니터하며 동작하게 설정 가능  \n",
    "    * 현재 모델은 `validation loss`를 모니터하며, `loss`가 낮아지면 모델 파라미터를 저장하도록 구성되어 있음"
   ]
  },
  {
   "cell_type": "code",
   "execution_count": 9,
   "id": "f7c8482d",
   "metadata": {},
   "outputs": [],
   "source": [
    "#### 7. Model Checkpoint Callback #######################################################################\n",
    "checkpt_dir = 'D:/geom/Aiffel/Fourier_signal/skip_networks/'\n",
    "cp_callback = tf.keras.callbacks.ModelCheckpoint(checkpt_dir,\n",
    "                                                 save_weights_only=True,\n",
    "                                                 monitor='val_loss',\n",
    "                                                 mode='auto',\n",
    "                                                 save_best_only=True, \n",
    "                                                 save_freq='epoch',\n",
    "                                                 verbose=1)"
   ]
  },
  {
   "cell_type": "markdown",
   "id": "e71d3f2b",
   "metadata": {},
   "source": [
    "### D. 학습\n",
    "- 메모리 부족 시, 배치사이즈 줄임"
   ]
  },
  {
   "cell_type": "code",
   "execution_count": 10,
   "id": "173b24d9",
   "metadata": {},
   "outputs": [
    {
     "name": "stdout",
     "output_type": "stream",
     "text": [
      "(8000, 1)\n",
      "Epoch 1/10\n",
      "4555/4555 [==============================] - ETA: 0s - loss: 1.3263 - accuracy: 0.5673\n",
      "Epoch 1: val_loss improved from inf to 0.85270, saving model to D:/geom/Aiffel/Fourier_signal/skip_networks\\\n",
      "4555/4555 [==============================] - 394s 86ms/step - loss: 1.3263 - accuracy: 0.5673 - val_loss: 0.8527 - val_accuracy: 0.7200\n",
      "Epoch 2/10\n",
      "4555/4555 [==============================] - ETA: 0s - loss: 0.7237 - accuracy: 0.7806\n",
      "Epoch 2: val_loss improved from 0.85270 to 0.64333, saving model to D:/geom/Aiffel/Fourier_signal/skip_networks\\\n",
      "4555/4555 [==============================] - 391s 86ms/step - loss: 0.7237 - accuracy: 0.7806 - val_loss: 0.6433 - val_accuracy: 0.7852\n",
      "Epoch 3/10\n",
      "4555/4555 [==============================] - ETA: 0s - loss: 0.3934 - accuracy: 0.8926\n",
      "Epoch 3: val_loss improved from 0.64333 to 0.41219, saving model to D:/geom/Aiffel/Fourier_signal/skip_networks\\\n",
      "4555/4555 [==============================] - 392s 86ms/step - loss: 0.3934 - accuracy: 0.8926 - val_loss: 0.4122 - val_accuracy: 0.8650\n",
      "Epoch 4/10\n",
      "4555/4555 [==============================] - ETA: 0s - loss: 0.2225 - accuracy: 0.9445\n",
      "Epoch 4: val_loss did not improve from 0.41219\n",
      "4555/4555 [==============================] - 383s 84ms/step - loss: 0.2225 - accuracy: 0.9445 - val_loss: 0.4219 - val_accuracy: 0.8745\n",
      "Epoch 5/10\n",
      "4555/4555 [==============================] - ETA: 0s - loss: 0.1458 - accuracy: 0.9644\n",
      "Epoch 5: val_loss improved from 0.41219 to 0.38654, saving model to D:/geom/Aiffel/Fourier_signal/skip_networks\\\n",
      "4555/4555 [==============================] - 387s 85ms/step - loss: 0.1458 - accuracy: 0.9644 - val_loss: 0.3865 - val_accuracy: 0.8814\n",
      "Epoch 6/10\n",
      "4555/4555 [==============================] - ETA: 0s - loss: 0.1012 - accuracy: 0.9758\n",
      "Epoch 6: val_loss improved from 0.38654 to 0.30435, saving model to D:/geom/Aiffel/Fourier_signal/skip_networks\\\n",
      "4555/4555 [==============================] - 389s 85ms/step - loss: 0.1012 - accuracy: 0.9758 - val_loss: 0.3043 - val_accuracy: 0.9101\n",
      "Epoch 7/10\n",
      "4555/4555 [==============================] - ETA: 0s - loss: 0.0718 - accuracy: 0.9822\n",
      "Epoch 7: val_loss did not improve from 0.30435\n",
      "4555/4555 [==============================] - 386s 85ms/step - loss: 0.0718 - accuracy: 0.9822 - val_loss: 0.3287 - val_accuracy: 0.9026\n",
      "Epoch 8/10\n",
      "4555/4555 [==============================] - ETA: 0s - loss: 0.0517 - accuracy: 0.9878\n",
      "Epoch 8: val_loss improved from 0.30435 to 0.25134, saving model to D:/geom/Aiffel/Fourier_signal/skip_networks\\\n",
      "4555/4555 [==============================] - 391s 86ms/step - loss: 0.0517 - accuracy: 0.9878 - val_loss: 0.2513 - val_accuracy: 0.9267\n",
      "Epoch 9/10\n",
      "4555/4555 [==============================] - ETA: 0s - loss: 0.0417 - accuracy: 0.9906\n",
      "Epoch 9: val_loss did not improve from 0.25134\n",
      "4555/4555 [==============================] - 385s 84ms/step - loss: 0.0417 - accuracy: 0.9906 - val_loss: 0.2862 - val_accuracy: 0.9233\n",
      "Epoch 10/10\n",
      "4555/4555 [==============================] - ETA: 0s - loss: 0.0362 - accuracy: 0.9916\n",
      "Epoch 10: val_loss improved from 0.25134 to 0.24944, saving model to D:/geom/Aiffel/Fourier_signal/skip_networks\\\n",
      "4555/4555 [==============================] - 389s 85ms/step - loss: 0.0362 - accuracy: 0.9916 - val_loss: 0.2494 - val_accuracy: 0.9318\n"
     ]
    }
   ],
   "source": [
    "#### 8. model fit #######################################################################################\n",
    "## fit 함수는 학습결과를 리턴하고, 그 결과를 history_wav에 저장\n",
    "input_shape = train_dataset.element_spec[0].shape[1:]\n",
    "print(input_shape)\n",
    "model = skip_model(input_shape)\n",
    "history_wav = model.fit(train_dataset, epochs=10,\n",
    "                    steps_per_epoch=len(train_wav) // batch_size, \n",
    "                    validation_data=test_dataset,\n",
    "                    validation_steps=len(test_wav) // batch_size,\n",
    "                    callbacks=[cp_callback]\n",
    "                    )"
   ]
  },
  {
   "cell_type": "markdown",
   "id": "860502e7",
   "metadata": {},
   "source": [
    "### E. 학습 결과 시각화\n",
    "- train_loss와 val_loss의 차이가 커진다면 overfitting일 수 있음\n",
    "* `model.fit` 함수는 학습 동안의 결과를 return  \n",
    "* return 값을 기반으로 loss와 accuracy를 그래프로 표현  \n",
    "* `fit` 함수에서 전달 받은 Loss와 Accuracy의 값을 이용해 모델이 어떻게 학습되고 있는지 확인 가능  \n",
    "* `train loss`와 `val_loss`의 차이가 커지는 경우 오버피팅이 일어나는 것이기 때문에 이를 수정할 필요가 있음  \n",
    "* 출력된 그래프를 기반으로 모델의 학습이 어떻게 진행됐는지 확인"
   ]
  },
  {
   "cell_type": "code",
   "execution_count": 11,
   "id": "da3166be",
   "metadata": {},
   "outputs": [
    {
     "data": {
      "image/png": "[encoded data removed]",
      "text/plain": [
       "<Figure size 800x800 with 2 Axes>"
      ]
     },
     "metadata": {},
     "output_type": "display_data"
    }
   ],
   "source": [
    "#### 9. accuracy, loss 비교 시각화 ###########################################################################\n",
    "import matplotlib.pyplot as plt\n",
    "\n",
    "acc = history_wav.history['accuracy']\n",
    "val_acc = history_wav.history['val_accuracy']\n",
    "\n",
    "loss=history_wav.history['loss']\n",
    "val_loss=history_wav.history['val_loss']\n",
    "\n",
    "epochs_range = range(len(acc))\n",
    "\n",
    "plt.figure(figsize=(8, 8))\n",
    "plt.subplot(1, 2, 1)\n",
    "plt.plot(epochs_range, acc, label='Training Accuracy')\n",
    "plt.plot(epochs_range, val_acc, label='Validation Accuracy')\n",
    "plt.legend(loc='lower right')\n",
    "plt.title('Training and Validation Accuracy')\n",
    "\n",
    "plt.subplot(1, 2, 2)\n",
    "plt.plot(epochs_range, loss, label='Training Loss')\n",
    "plt.plot(epochs_range, val_loss, label='Validation Loss')\n",
    "plt.legend(loc='upper right')\n",
    "plt.title('Training and Validation Loss')\n",
    "plt.show()"
   ]
  },
  {
   "cell_type": "markdown",
   "id": "308dd9b4",
   "metadata": {},
   "source": [
    "### F. Evaluation (평가)\n",
    "* Test dataset을 이용해서 모델의 성능 평가 : 모델의 예측값과 실제값이 얼마나 일치하는지 확인\n",
    "* 실습삼아 `checkpoint callback` 함수가 저장한 weight를 다시 불러와서 테스트 준비"
   ]
  },
  {
   "cell_type": "code",
   "execution_count": 12,
   "id": "35dc62ee",
   "metadata": {},
   "outputs": [
    {
     "name": "stdout",
     "output_type": "stream",
     "text": [
      "507/507 [==============================] - 5s 10ms/step - loss: 0.2493 - accuracy: 0.9318\n",
      "loss value: 0.249\n",
      "accuracy value: 93.1845%\n"
     ]
    }
   ],
   "source": [
    "#### 10. accuracy, loss ####################################################################################\n",
    "model.load_weights(checkpt_dir)\n",
    "results = model.evaluate(test_dataset)\n",
    "\n",
    "# loss\n",
    "print(\"loss value: {:.3f}\".format(results[0]))\n",
    "# accuracy\n",
    "print(\"accuracy value: {:.4f}%\".format(results[1]*100))"
   ]
  },
  {
   "cell_type": "markdown",
   "id": "de54d8a0",
   "metadata": {},
   "source": [
    "### G. 모델 테스트\n",
    "* Test data 셋을 골라 직접 들어보고 모델의 예측이 맞는지 확인"
   ]
  },
  {
   "cell_type": "code",
   "execution_count": 13,
   "id": "8da76687",
   "metadata": {},
   "outputs": [
    {
     "name": "stdout",
     "output_type": "stream",
     "text": [
      "[2003]\n",
      "label :  silence\n"
     ]
    },
    {
     "data": {
      "text/html": [
       "\n",
       "                <audio  controls=\"controls\" >\n",
       "                    <source src=\"data:audio/wav;base64,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\" type=\"audio/wav\" />\n",
       "                    Your browser does not support the audio element.\n",
       "                </audio>\n",
       "              "
      ],
      "text/plain": [
       "<IPython.lib.display.Audio object>"
      ]
     },
     "execution_count": 13,
     "metadata": {},
     "output_type": "execute_result"
    }
   ],
   "source": [
    "#### 11. Test data 셋을 골라 직접 들어보고 모델의 예측이 맞는지 확인 #######################################\n",
    "inv_label_value = {v: k for k, v in label_value.items()}\n",
    "batch_index = np.random.choice(len(test_wav), size=1, replace=False)\n",
    "print(batch_index)\n",
    "\n",
    "batch_xs = test_wav[batch_index]\n",
    "batch_ys = test_label[batch_index]\n",
    "y_pred_ = model(batch_xs, training=False)\n",
    "\n",
    "print(\"label : \", str(inv_label_value[batch_ys[0]]))\n",
    "\n",
    "ipd.Audio(batch_xs.reshape(8000,), rate=8000)"
   ]
  },
  {
   "cell_type": "code",
   "execution_count": 14,
   "id": "08395fb0",
   "metadata": {},
   "outputs": [
    {
     "name": "stdout",
     "output_type": "stream",
     "text": [
      "y_pred: silence(Correct!)\n"
     ]
    }
   ],
   "source": [
    "#### 12. 테스트셋의 라벨과 모델의 실제 prediction 결과 비교 ###############################################\n",
    "if np.argmax(y_pred_) == batch_ys[0]:\n",
    "    print(\"y_pred: \" + str(inv_label_value[np.argmax(y_pred_)]) + \"(Correct!)\")\n",
    "else:\n",
    "    print(\"y_pred: \" + str(inv_label_value[np.argmax(y_pred_)]) + \"(Incorrect!)\")"
   ]
  },
  {
   "cell_type": "code",
   "execution_count": null,
   "id": "1c8d2a1b",
   "metadata": {},
   "outputs": [],
   "source": []
  },
  {
   "cell_type": "code",
   "execution_count": null,
   "id": "0b3cb9de",
   "metadata": {},
   "outputs": [],
   "source": []
  }
 ],
 "metadata": {
  "kernelspec": {
   "display_name": "Python 3.10.8 ('tf')",
   "language": "python",
   "name": "python3"
  },
  "language_info": {
   "codemirror_mode": {
    "name": "ipython",
    "version": 3
   },
   "file_extension": ".py",
   "mimetype": "text/x-python",
   "name": "python",
   "nbconvert_exporter": "python",
   "pygments_lexer": "ipython3",
   "version": "3.10.8"
  },
  "vscode": {
   "interpreter": {
    "hash": "02aaae3c9b50b62c88d0cc652c4ef3b1b4bf05515e9d7a066ea77f7c79246682"
   }
  }
 },
 "nbformat": 4,
 "nbformat_minor": 5
}
