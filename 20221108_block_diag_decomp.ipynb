{
 "cells": [
  {
   "cell_type": "code",
   "execution_count": 50,
   "metadata": {},
   "outputs": [
    {
     "data": {
      "text/plain": [
       "array([[ 0,  1,  2,  3,  4],\n",
       "       [-1,  0,  2,  3,  4],\n",
       "       [-2, -2,  0,  3,  4],\n",
       "       [-3, -3, -3,  0,  4],\n",
       "       [-4, -4, -4, -4,  0]])"
      ]
     },
     "execution_count": 50,
     "metadata": {},
     "output_type": "execute_result"
    }
   ],
   "source": [
    "import numpy as np\n",
    "import scipy.linalg as la\n",
    "import scipy\n",
    "from scipy.linalg import block_diag\n",
    "\n",
    "# X=np.array([[0,-1,5,-3], [1,0,0,-1], [0,0,3,-2], [0,0,5,-3]])\n",
    "X=np.array([[0,1,2,3,4], [-1,0,2,3,4], [-2,-2,0,3,4], [-3,-3,-3,0,4], [-4,-4,-4,-4,0]])\n",
    "A, B = np.array([[0,-1], [1,0]]), np.array([[3,2],[5,-3]])\n",
    "M = la.block_diag(A, B)\n",
    "X"
   ]
  },
  {
   "cell_type": "code",
   "execution_count": 15,
   "metadata": {},
   "outputs": [],
   "source": [
    "# [u,v] = np.linalg.eig(M)\n",
    "# print(np.linalg.eig(M))"
   ]
  },
  {
   "cell_type": "code",
   "execution_count": 51,
   "metadata": {},
   "outputs": [
    {
     "name": "stdout",
     "output_type": "stream",
     "text": [
      "(array([ 0.00000000e+00+9.91364871j,  0.00000000e+00-9.91364871j,\n",
      "        5.91936814e-16+0.j        , -1.11022302e-16+1.31132345j,\n",
      "       -1.11022302e-16-1.31132345j]), array([[ 0.21645083+0.32087282j,  0.21645083-0.32087282j,\n",
      "        -0.61538462+0.j        , -0.400198  -0.02611738j,\n",
      "        -0.400198  +0.02611738j],\n",
      "       [ 0.14800892+0.35763625j,  0.14800892-0.35763625j,\n",
      "         0.61538462+0.j        , -0.08070156-0.39284579j,\n",
      "        -0.08070156+0.39284579j],\n",
      "       [-0.03755848+0.40175237j, -0.03755848-0.40175237j,\n",
      "        -0.30769231+0.j        ,  0.53837451+0.j        ,\n",
      "         0.53837451-0.j        ],\n",
      "       [-0.32690127+0.3282255j , -0.32690127-0.3282255j ,\n",
      "         0.30769231+0.j        , -0.17981165+0.45357918j,\n",
      "        -0.17981165-0.45357918j],\n",
      "       [-0.56830214+0.j        , -0.56830214-0.j        ,\n",
      "        -0.23076923+0.j        , -0.10559104-0.37317019j,\n",
      "        -0.10559104+0.37317019j]]))\n"
     ]
    }
   ],
   "source": [
    "[u,v] = np.linalg.eig(X)\n",
    "print(np.linalg.eig(X))"
   ]
  },
  {
   "cell_type": "code",
   "execution_count": 52,
   "metadata": {},
   "outputs": [
    {
     "name": "stdout",
     "output_type": "stream",
     "text": [
      "[2 3 4 0 1]\n",
      "[ 0.+0.j          0.+1.31132345j -0.-1.31132345j  0.+9.91364871j\n",
      " -0.-9.91364871j]\n",
      "[[-0.03755848+0.40175237j -0.03755848-0.40175237j -0.30769231+0.j\n",
      "   0.53837451+0.j          0.53837451-0.j        ]\n",
      " [-0.32690127+0.3282255j  -0.32690127-0.3282255j   0.30769231+0.j\n",
      "  -0.17981165+0.45357918j -0.17981165-0.45357918j]\n",
      " [-0.56830214+0.j         -0.56830214-0.j         -0.23076923+0.j\n",
      "  -0.10559104-0.37317019j -0.10559104+0.37317019j]\n",
      " [ 0.21645083+0.32087282j  0.21645083-0.32087282j -0.61538462+0.j\n",
      "  -0.400198  -0.02611738j -0.400198  +0.02611738j]\n",
      " [ 0.14800892+0.35763625j  0.14800892-0.35763625j  0.61538462+0.j\n",
      "  -0.08070156-0.39284579j -0.08070156+0.39284579j]]\n",
      "2\n",
      "1\n"
     ]
    }
   ],
   "source": [
    "perm = np.argsort(np.abs(np.imag(u)))\n",
    "print(perm)\n",
    "unew = 1j*np.imag(u[perm])\n",
    "print(unew)\n",
    "vnew = v[perm,:]\n",
    "print(vnew)\n",
    "numblocks = np.flatnonzero(unew).size // 2\n",
    "print(numblocks)\n",
    "num_zeros = 5 - (2 * numblocks)\n",
    "print(num_zeros)"
   ]
  },
  {
   "cell_type": "code",
   "execution_count": 53,
   "metadata": {},
   "outputs": [
    {
     "name": "stdout",
     "output_type": "stream",
     "text": [
      "[[1.        +0.j         0.        +0.j         0.        +0.j\n",
      "  0.        +0.j         0.        +0.j        ]\n",
      " [0.        +0.j         0.70710678+0.j         0.        +0.70710678j\n",
      "  0.        +0.j         0.        +0.j        ]\n",
      " [0.        +0.j         0.70710678+0.j         0.        -0.70710678j\n",
      "  0.        +0.j         0.        -0.j        ]\n",
      " [0.        +0.j         0.        +0.j         0.        +0.j\n",
      "  0.70710678+0.j         0.        +0.70710678j]\n",
      " [0.        +0.j         0.        +0.j         0.        -0.j\n",
      "  0.70710678+0.j         0.        -0.70710678j]]\n"
     ]
    }
   ],
   "source": [
    "from scipy.linalg import block_diag\n",
    "T = la.block_diag(*[1.]*num_zeros, np.kron(1/np.sqrt(2)*np.eye(numblocks), np.array([[1.,1j],[1,-1j]])))\n",
    "print(T)"
   ]
  },
  {
   "cell_type": "code",
   "execution_count": 54,
   "metadata": {},
   "outputs": [
    {
     "name": "stdout",
     "output_type": "stream",
     "text": [
      "[[0.70710678 0.        ]\n",
      " [0.         0.70710678]]\n",
      "[[ 1.+0.j  0.+1.j]\n",
      " [ 1.+0.j -0.-1.j]]\n",
      "[[0.70710678+0.j         0.        +0.70710678j 0.        +0.j\n",
      "  0.        +0.j        ]\n",
      " [0.70710678+0.j         0.        -0.70710678j 0.        +0.j\n",
      "  0.        -0.j        ]\n",
      " [0.        +0.j         0.        +0.j         0.70710678+0.j\n",
      "  0.        +0.70710678j]\n",
      " [0.        +0.j         0.        -0.j         0.70710678+0.j\n",
      "  0.        -0.70710678j]]\n"
     ]
    }
   ],
   "source": [
    "#print(*[1.]*num_zeros)\n",
    "print(np.eye(numblocks)*1/np.sqrt(2))\n",
    "print(np.array([[1.,1j],[1,-1j]]))\n",
    "print(np.kron(np.eye(numblocks)*1/np.sqrt(2), np.array([[1.,1j],[1,-1j]])))"
   ]
  },
  {
   "cell_type": "code",
   "execution_count": 55,
   "metadata": {},
   "outputs": [
    {
     "name": "stdout",
     "output_type": "stream",
     "text": [
      "[[ 0.          0.          0.          0.          0.        ]\n",
      " [ 0.          0.         -1.31132345  0.          0.        ]\n",
      " [ 0.          1.31132345  0.          0.         -0.        ]\n",
      " [ 0.          0.          0.          0.         -9.91364871]\n",
      " [ 0.          0.          0.          9.91364871  0.        ]]\n"
     ]
    }
   ],
   "source": [
    "Eigs = np.real(T.conj().T.dot(np.diag(unew).dot(T)))\n",
    "print(Eigs)"
   ]
  },
  {
   "cell_type": "code",
   "execution_count": 56,
   "metadata": {},
   "outputs": [
    {
     "name": "stdout",
     "output_type": "stream",
     "text": [
      "[[-0.03755848 -0.24412918  0.28408182  0.76137654  0.        ]\n",
      " [-0.32690127 -0.01358278  0.23209048 -0.25429208 -0.64145783]\n",
      " [-0.56830214 -0.56502878  0.         -0.14932828  0.52774235]\n",
      " [ 0.21645083 -0.28208878  0.22689135 -0.56596544  0.03693556]\n",
      " [ 0.14800892  0.53980075  0.25288702 -0.11412924  0.55556785]]\n"
     ]
    }
   ],
   "source": [
    "Evecs = np.real(vnew.dot(T))\n",
    "print(Evecs)"
   ]
  },
  {
   "cell_type": "code",
   "execution_count": null,
   "metadata": {},
   "outputs": [],
   "source": []
  },
  {
   "cell_type": "code",
   "execution_count": null,
   "metadata": {},
   "outputs": [],
   "source": []
  },
  {
   "cell_type": "code",
   "execution_count": null,
   "metadata": {},
   "outputs": [],
   "source": [
    "# import numpy as np\n",
    "# import scipy.linalg as la\n",
    "\n",
    "# a=np.array([[0,-1,5,-3], [1,0,0,-1], [0,0,3,2], [0,0,5,-3]])\n",
    "#a=a-np.transpose(a)\n",
    "\n",
    "# print(a)\n",
    "\n",
    "# #eigenvalue\n",
    "# w, v =np.linalg.eig(a)\n",
    "# print(w)\n",
    "# print(v)\n",
    "\n",
    "# #Schur decomposition\n",
    "# import scipy\n",
    "# print(scipy.version.version)\n",
    "\n",
    "# t,z=la.schur(a, output='real', lwork=None, overwrite_a=True, sort=None, check_finite=True)\n",
    "\n",
    "# print(\"schur form \")\n",
    "# print(t)\n",
    "# print(\"orthogonal matrix \")\n",
    "# print(z)"
   ]
  },
  {
   "cell_type": "markdown",
   "metadata": {},
   "source": [
    "S^t=(Q^tAQ)^t \\\n",
    "S^t=Q^t(Q^tA)^t \\\n",
    "S^t=Q^tA^tQ \\\n",
    "S^t=Q^t(-A)Q \\\n",
    "S^t=-Q^tAQ \\\n",
    "S^t=-S "
   ]
  }
 ],
 "metadata": {
  "kernelspec": {
   "display_name": "Python 3.10.4 ('tf')",
   "language": "python",
   "name": "python3"
  },
  "language_info": {
   "codemirror_mode": {
    "name": "ipython",
    "version": 3
   },
   "file_extension": ".py",
   "mimetype": "text/x-python",
   "name": "python",
   "nbconvert_exporter": "python",
   "pygments_lexer": "ipython3",
   "version": "3.10.4"
  },
  "orig_nbformat": 4,
  "vscode": {
   "interpreter": {
    "hash": "02aaae3c9b50b62c88d0cc652c4ef3b1b4bf05515e9d7a066ea77f7c79246682"
   }
  }
 },
 "nbformat": 4,
 "nbformat_minor": 2
}
